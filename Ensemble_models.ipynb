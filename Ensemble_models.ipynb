{
 "cells": [
  {
   "cell_type": "code",
   "execution_count": 1,
   "metadata": {},
   "outputs": [
    {
     "name": "stderr",
     "output_type": "stream",
     "text": [
      "[nltk_data] Downloading package stopwords to\n",
      "[nltk_data]     C:\\Users\\katya\\AppData\\Roaming\\nltk_data...\n",
      "[nltk_data]   Package stopwords is already up-to-date!\n",
      "[nltk_data] Downloading package punkt to\n",
      "[nltk_data]     C:\\Users\\katya\\AppData\\Roaming\\nltk_data...\n",
      "[nltk_data]   Package punkt is already up-to-date!\n",
      "[nltk_data] Downloading package wordnet to\n",
      "[nltk_data]     C:\\Users\\katya\\AppData\\Roaming\\nltk_data...\n",
      "[nltk_data]   Package wordnet is already up-to-date!\n"
     ]
    }
   ],
   "source": [
    "import numpy as np\n",
    "import pandas as pd\n",
    "import text2emotion as te\n",
    "import ast\n",
    "\n",
    "import matplotlib.pyplot as plt  #for plotting purpose\n",
    "#??? from sklearn.preprocessing import linear_model   #for implementing multiple linear regression\n",
    "\n",
    "from sklearn.linear_model import LinearRegression\n",
    "\n",
    "from sklearn.linear_model import LogisticRegression\n",
    "import matplotlib.pyplot as plt\n",
    "\n",
    "from sklearn.ensemble import RandomForestClassifier\n",
    "from xgboost import XGBRegressor\n",
    "from sklearn.svm import SVC\n",
    "from sklearn.metrics import confusion_matrix\n",
    "from sklearn.metrics import classification_report, confusion_matrix\n",
    "\n",
    "\n",
    "from matplotlib import pyplot\n",
    "\n",
    "# importing r2_score module\n",
    "from sklearn.metrics import r2_score\n",
    "from sklearn.metrics import mean_squared_error\n",
    "\n",
    "import winsound\n",
    "frequency = 2500  # Set Frequency To 2500 Hertz\n",
    "duration = 1000  # Set Duration To 1000 ms == 1 second"
   ]
  },
  {
   "cell_type": "code",
   "execution_count": 2,
   "metadata": {},
   "outputs": [
    {
     "name": "stderr",
     "output_type": "stream",
     "text": [
      "<ipython-input-2-6be17d7b32cc>:5: UserWarning: Pandas doesn't allow columns to be created via a new attribute name - see https://pandas.pydata.org/pandas-docs/stable/indexing.html#attribute-access\n",
      "  read_scores.test = pd.read_csv('C:/Users/katya/Fake_News/readability_scores_test.csv')\n"
     ]
    }
   ],
   "source": [
    "data_train = pd.read_csv('C:/Users/katya/Fake_News/data_train.csv')\n",
    "data_test = pd.read_csv('C:/Users/katya/Fake_News/data_test.csv') \n",
    "\n",
    "read_scores = pd.read_csv('C:/Users/katya/Fake_News/readability_scores.csv')\n",
    "read_scores.test = pd.read_csv('C:/Users/katya/Fake_News/readability_scores_test.csv')\n",
    "\n",
    "stopword_ft = pd.read_csv('C:/Users/katya/Fake_News/StopWord_Features.csv')\n",
    "stopword_ft_test = pd.read_csv('C:/Users/katya/Fake_News/StopWord_Features_test.csv')\n",
    "\n",
    "other_feat = pd.read_csv('C:/Users/katya/Fake_News/other_feat.csv')\n",
    "other_feat_test = pd.read_csv('C:/Users/katya/Fake_News/other_feat_test.csv')\n",
    "\n",
    "average_freq = pd.read_csv('C:/Users/katya/Fake_News/Average_Freq.csv')\n",
    "average_freq_totals = pd.read_csv('C:/Users/katya/Fake_News/average_freq_totals.csv')\n",
    "\n",
    "NER = pd.read_csv('C:/Users/katya/Fake_News/NamedEntityRecog.csv')\n",
    "NER_test = pd.read_csv('C:/Users/katya/Fake_News/NamedEntityRecog_test.csv')\n",
    "\n",
    "complete_df = pd.read_csv('C:/Users/katya/Fake_News/Complete_df.csv')\n",
    "complete_df_test = pd.read_csv('C:/Users/katya/Fake_News/Complete_df_test.csv')"
   ]
  },
  {
   "cell_type": "code",
   "execution_count": null,
   "metadata": {},
   "outputs": [],
   "source": [
    "train = pd.DataFrame()\n",
    "train['x'] = complete_df['CARDINAL']\n",
    "train['x_1'] = complete_df['DATE']\n",
    "train['x_2'] = complete_df['EVENT']\n",
    "train['x_3'] = complete_df['FAC']\n",
    "train['x_4'] = complete_df['GPE']\n",
    "train['x_5'] = complete_df['LANGUAGE']\n",
    "train['x_6'] = complete_df['LAW']\n",
    "train['x_7'] = complete_df['LOC']\n",
    "train['x_8'] = complete_df['MONEY']\n",
    "train['x_9'] = complete_df['NORP']\n",
    "train['x_10'] = complete_df['ORDINAL']\n",
    "train['x_11'] = complete_df['ORG']\n",
    "train['x_12'] = complete_df['PERCENT']\n",
    "train['x_13'] = complete_df['PERSON']\n",
    "train['x_14'] = complete_df['PRODUCT']\n",
    "train['x_15'] = complete_df['QUANTITY']\n",
    "train['x_16'] = complete_df['TIME']\n",
    "train['x_17'] = complete_df['WORK_OF_ART']\n",
    "train['x_18'] = complete_df['unique_types_count']\n",
    "\n",
    "\n",
    "train['y'] = complete_df['class']\n",
    "\n",
    "#1 True, 0 False\n",
    "train['y'] = train['y'].replace({'T': 1})\n",
    "train['y'] = train['y'].replace({'F': 0})\n",
    "\n",
    "x_train = train.drop(['y'], axis = 1)\n",
    "y_train = train['y']"
   ]
  },
  {
   "cell_type": "code",
   "execution_count": null,
   "metadata": {},
   "outputs": [],
   "source": []
  },
  {
   "cell_type": "code",
   "execution_count": null,
   "metadata": {},
   "outputs": [],
   "source": [
    "test = pd.DataFrame()\n",
    "test['x'] = complete_df_test['CARDINAL']\n",
    "test['x_1'] = complete_df_test['DATE']\n",
    "test['x_2'] = complete_df_test['EVENT']\n",
    "test['x_3'] = complete_df_test['FAC']\n",
    "test['x_4'] = complete_df_test['GPE']\n",
    "test['x_5'] = complete_df_test['LANGUAGE']\n",
    "test['x_6'] = complete_df_test['LAW']\n",
    "test['x_7'] = complete_df_test['LOC']\n",
    "test['x_8'] = complete_df_test['MONEY']\n",
    "test['x_9'] = complete_df_test['NORP']\n",
    "test['x_10'] = complete_df_test['ORDINAL']\n",
    "test['x_11'] = complete_df_test['ORG']\n",
    "test['x_12'] = complete_df_test['PERCENT']\n",
    "test['x_13'] = complete_df_test['PERSON']\n",
    "test['x_14'] = complete_df_test['PRODUCT']\n",
    "test['x_15'] = complete_df_test['QUANTITY']\n",
    "test['x_16'] = complete_df_test['TIME']\n",
    "test['x_17'] = complete_df_test['WORK_OF_ART']\n",
    "test['x_18'] = complete_df_test['unique_types_count']\n",
    "\n",
    "test['y'] = complete_df_test['class']\n",
    "\n",
    "#1 True, 0 False\n",
    "test['y'] = test['y'].replace({'T': 1})\n",
    "test['y'] = test['y'].replace({'F': 0})\n",
    "\n",
    "x_test = test.drop(['y'], axis = 1)\n",
    "#x_test = test.drop('y', axis = 1)\n",
    "y_test = test['y']"
   ]
  },
  {
   "cell_type": "code",
   "execution_count": null,
   "metadata": {},
   "outputs": [],
   "source": []
  }
 ],
 "metadata": {
  "kernelspec": {
   "display_name": "Python 3",
   "language": "python",
   "name": "python3"
  },
  "language_info": {
   "codemirror_mode": {
    "name": "ipython",
    "version": 3
   },
   "file_extension": ".py",
   "mimetype": "text/x-python",
   "name": "python",
   "nbconvert_exporter": "python",
   "pygments_lexer": "ipython3",
   "version": "3.8.5"
  }
 },
 "nbformat": 4,
 "nbformat_minor": 4
}
