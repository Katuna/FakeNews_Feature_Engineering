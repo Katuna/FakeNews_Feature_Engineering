{
 "cells": [
  {
   "cell_type": "code",
   "execution_count": 58,
   "metadata": {
    "scrolled": true
   },
   "outputs": [],
   "source": [
    "from sentence_transformers import SentenceTransformer\n",
    "import pandas as pd\n",
    "import numpy as np\n",
    "model = SentenceTransformer('bert-base-nli-mean-tokens')"
   ]
  },
  {
   "cell_type": "code",
   "execution_count": 6,
   "metadata": {},
   "outputs": [],
   "source": [
    "import winsound\n",
    "duration = 1050  # milliseconds\n",
    "freq = 940  # Hz\n",
    "winsound.Beep(freq, duration)"
   ]
  },
  {
   "cell_type": "code",
   "execution_count": 78,
   "metadata": {},
   "outputs": [],
   "source": [
    "sentences = ['Editorial: Counting down to Election Day; learn and vote', \n",
    "          'Donald Trump Rips Mike Pence for Not Having Courage on 1/6 to Reject Election Results', \n",
    "          'Mark Larson on the recall election’s latest',\n",
    "          'Personal threats, election lies and punishing new laws rattle election officials, raising fears of a mass exodus',\n",
    "          'Nicaragua: Another presidential contender arrested ahead of election',\n",
    "          'Tiburon opts to hold special election to fill vacant council seat',\n",
    "          'PM Imran Khans party bags majority in Pakistans Kashmir election',\n",
    "          'DISTRICT 7: Special election between Sonya McKinstry, Cassius Lanier is Tuesday',\n",
    "          'Arizona GOP Lawmaker Booed Off Stage at Trump Protect Our Elections Rally',\n",
    "          'The Path Toward Commonsense Election Reform',\n",
    "          'Merkel’s Bloc Continues to Slide in German Election Poll',\n",
    "          'Housing, homelessness at forefront as Seattle voters weigh primary election choices',\n",
    "          'Marin scrambles to secure polling places for Newsom recall election',\n",
    "          'Somalia postpones long-delayed election',\n",
    "          'Trumps impact on the line in Texas special election',\n",
    "          'AP FACT CHECK: Trump is relentless in election fabrications',\n",
    "          'Letter: Support Harless in election',\n",
    "          'Former AG Woods Criticizes Maricopa County Election Audit, Sen. Sinema',\n",
    "          'More than 700 votes cast in early voting for mayoral, Topeka City Council District 3 and Seaman BOE primaries',\n",
    "          'League reminds residents of special election for Select Board',\n",
    "          'Election Commission votes to stay in the courthouse'\n",
    "         ]\n",
    "    \n",
    "    \n",
    "sources = ['The Daily Courier', \n",
    "           'Newsweek',\n",
    "           'Kusi',\n",
    "           'CNN',\n",
    "           'DW',\n",
    "           'mij',\n",
    "           'reuters',\n",
    "           'The Tuscaloosa News',\n",
    "           'Newsweek',\n",
    "           'The Ripon Forum',\n",
    "           'Bloomberg',\n",
    "           'The Seattle Times',\n",
    "           'The Mercury Times',\n",
    "           'France 24',\n",
    "           'Politico',\n",
    "           'KSNBlocal',\n",
    "           'The Columbian',\n",
    "           'KJZZ',\n",
    "           'cjonline',\n",
    "           'WickedLine.com',\n",
    "           'Johnson City Press'\n",
    "          ]"
   ]
  },
  {
   "cell_type": "code",
   "execution_count": 79,
   "metadata": {},
   "outputs": [],
   "source": [
    "#sentences = ['This framework generates embeddings for each input sentence',\n",
    "#    'Sentences are passed as a list of string.', \n",
    "#    'The quick brown fox jumps over the lazy dog.']\n",
    "sentence_embeddings = model.encode(sentences)"
   ]
  },
  {
   "cell_type": "code",
   "execution_count": 85,
   "metadata": {},
   "outputs": [
    {
     "name": "stdout",
     "output_type": "stream",
     "text": [
      "                                                 text  \\\n",
      "0   Editorial: Counting down to Election Day; lear...   \n",
      "1   Donald Trump Rips Mike Pence for Not Having Co...   \n",
      "2         Mark Larson on the recall election’s latest   \n",
      "3   Personal threats, election lies and punishing ...   \n",
      "4   Nicaragua: Another presidential contender arre...   \n",
      "5   Tiburon opts to hold special election to fill ...   \n",
      "6   PM Imran Khans party bags majority in Pakistan...   \n",
      "7   DISTRICT 7: Special election between Sonya McK...   \n",
      "8   Arizona GOP Lawmaker Booed Off Stage at Trump ...   \n",
      "9         The Path Toward Commonsense Election Reform   \n",
      "10  Merkel’s Bloc Continues to Slide in German Ele...   \n",
      "11  Housing, homelessness at forefront as Seattle ...   \n",
      "12  Marin scrambles to secure polling places for N...   \n",
      "13            Somalia postpones long-delayed election   \n",
      "14  Trumps impact on the line in Texas special ele...   \n",
      "15  AP FACT CHECK: Trump is relentless in election...   \n",
      "16                Letter: Support Harless in election   \n",
      "17  Former AG Woods Criticizes Maricopa County Ele...   \n",
      "18  More than 700 votes cast in early voting for m...   \n",
      "19  League reminds residents of special election f...   \n",
      "20  Election Commission votes to stay in the court...   \n",
      "\n",
      "                                                  emb              sources  \n",
      "0   [-0.63631624, 0.19867367, 1.2467937, 0.3450479...    The Daily Courier  \n",
      "1   [-0.6118304, 0.61012614, 0.17613193, 0.3042496...             Newsweek  \n",
      "2   [-0.72363317, 0.11307155, 2.5432646, 0.2994992...                 Kusi  \n",
      "3   [0.0055751894, 0.52150637, 0.65236294, 0.03890...                  CNN  \n",
      "4   [-0.6060503, -0.18584813, 0.5675973, 0.4749131...                   DW  \n",
      "5   [-0.986052, -0.6820143, 0.89834654, 0.4550533,...                  mij  \n",
      "6   [-1.0692563, -0.2911162, 0.34937218, 0.6604532...              reuters  \n",
      "7   [-0.40961397, -0.47624052, 1.0485272, 0.348981...  The Tuscaloosa News  \n",
      "8   [-0.08417319, 1.0602788, -0.18716964, 0.128213...             Newsweek  \n",
      "9   [-0.80676013, 0.3604169, 0.25690508, 0.8431930...      The Ripon Forum  \n",
      "10  [-0.24389471, 0.74007404, 0.79362875, -0.03213...            Bloomberg  \n",
      "11  [0.25419423, 0.9853946, 0.8054611, 0.074949816...    The Seattle Times  \n",
      "12  [-0.18945862, 0.47701043, 1.3493745, 0.8296128...    The Mercury Times  \n",
      "13  [-0.06492301, 0.043486435, 1.6925986, 0.007223...            France 24  \n",
      "14  [-0.3577849, -0.37728858, 0.5586421, 0.4288315...             Politico  \n",
      "15  [-0.07392996, 1.0663792, 0.5958656, 0.35001138...            KSNBlocal  \n",
      "16  [-0.405576, 0.32021886, 1.4362905, 0.29115313,...        The Columbian  \n",
      "17  [-0.44791424, 0.61669445, 0.19639416, 0.793183...                 KJZZ  \n",
      "18  [-0.3304009, 0.68512106, 0.16514131, 0.3132544...             cjonline  \n",
      "19  [-0.42758903, -1.0085411, 1.6096245, 0.4196740...       WickedLine.com  \n",
      "20  [0.5083097, 0.7975925, 0.7848663, 0.3279545, 0...   Johnson City Press  \n"
     ]
    }
   ],
   "source": [
    "sentence_df = pd.DataFrame()\n",
    "sentence_arr = []\n",
    "embedding_arr = []\n",
    "\n",
    "i = 0\n",
    "\n",
    "for sentence, embedding in zip(sentences, sentence_embeddings):\n",
    "    #print(\"Sentence:\", sentence)\n",
    "    #print(\"Embedding:\", embedding)\n",
    "    #print(\"\")    \n",
    "    sentence_arr.append(sentences[i])\n",
    "    embedding_arr.append(embedding)\n",
    "    i = i + 1\n",
    "\n",
    "sentence_df['text'] = sentence_arr\n",
    "sentence_df['emb'] = embedding_arr\n",
    "sentence_df['sources'] = sources\n",
    "print(sentence_df)"
   ]
  },
  {
   "cell_type": "code",
   "execution_count": 92,
   "metadata": {},
   "outputs": [
    {
     "data": {
      "text/plain": [
       "(                                                 text  \\\n",
       " 0   Editorial: Counting down to Election Day; lear...   \n",
       " 1   Donald Trump Rips Mike Pence for Not Having Co...   \n",
       " 2         Mark Larson on the recall election’s latest   \n",
       " 3   Personal threats, election lies and punishing ...   \n",
       " 4   Nicaragua: Another presidential contender arre...   \n",
       " 5   Tiburon opts to hold special election to fill ...   \n",
       " 6   PM Imran Khans party bags majority in Pakistan...   \n",
       " 7   DISTRICT 7: Special election between Sonya McK...   \n",
       " 8   Arizona GOP Lawmaker Booed Off Stage at Trump ...   \n",
       " 9         The Path Toward Commonsense Election Reform   \n",
       " 10  Merkel’s Bloc Continues to Slide in German Ele...   \n",
       " 11  Housing, homelessness at forefront as Seattle ...   \n",
       " 12  Marin scrambles to secure polling places for N...   \n",
       " 13            Somalia postpones long-delayed election   \n",
       " 14  Trumps impact on the line in Texas special ele...   \n",
       " 15  AP FACT CHECK: Trump is relentless in election...   \n",
       " 16                Letter: Support Harless in election   \n",
       " 17  Former AG Woods Criticizes Maricopa County Ele...   \n",
       " 18  More than 700 votes cast in early voting for m...   \n",
       " 19  League reminds residents of special election f...   \n",
       " 20  Election Commission votes to stay in the court...   \n",
       " \n",
       "                                                   emb              sources  \\\n",
       " 0   [-0.63631624, 0.19867367, 1.2467937, 0.3450479...    The Daily Courier   \n",
       " 1   [-0.6118304, 0.61012614, 0.17613193, 0.3042496...             Newsweek   \n",
       " 2   [-0.72363317, 0.11307155, 2.5432646, 0.2994992...                 Kusi   \n",
       " 3   [0.0055751894, 0.52150637, 0.65236294, 0.03890...                  CNN   \n",
       " 4   [-0.6060503, -0.18584813, 0.5675973, 0.4749131...                   DW   \n",
       " 5   [-0.986052, -0.6820143, 0.89834654, 0.4550533,...                  mij   \n",
       " 6   [-1.0692563, -0.2911162, 0.34937218, 0.6604532...              reuters   \n",
       " 7   [-0.40961397, -0.47624052, 1.0485272, 0.348981...  The Tuscaloosa News   \n",
       " 8   [-0.08417319, 1.0602788, -0.18716964, 0.128213...             Newsweek   \n",
       " 9   [-0.80676013, 0.3604169, 0.25690508, 0.8431930...      The Ripon Forum   \n",
       " 10  [-0.24389471, 0.74007404, 0.79362875, -0.03213...            Bloomberg   \n",
       " 11  [0.25419423, 0.9853946, 0.8054611, 0.074949816...    The Seattle Times   \n",
       " 12  [-0.18945862, 0.47701043, 1.3493745, 0.8296128...    The Mercury Times   \n",
       " 13  [-0.06492301, 0.043486435, 1.6925986, 0.007223...            France 24   \n",
       " 14  [-0.3577849, -0.37728858, 0.5586421, 0.4288315...             Politico   \n",
       " 15  [-0.07392996, 1.0663792, 0.5958656, 0.35001138...            KSNBlocal   \n",
       " 16  [-0.405576, 0.32021886, 1.4362905, 0.29115313,...        The Columbian   \n",
       " 17  [-0.44791424, 0.61669445, 0.19639416, 0.793183...                 KJZZ   \n",
       " 18  [-0.3304009, 0.68512106, 0.16514131, 0.3132544...             cjonline   \n",
       " 19  [-0.42758903, -1.0085411, 1.6096245, 0.4196740...       WickedLine.com   \n",
       " 20  [0.5083097, 0.7975925, 0.7848663, 0.3279545, 0...   Johnson City Press   \n",
       " \n",
       "     cluster                                           centroid  \n",
       " 0         4  [-0.50687987, 0.05858981, 0.83646035, 0.584271...  \n",
       " 1         0  [-0.34778154, 0.43322685, 0.44358373, 0.361028...  \n",
       " 2         3  [-0.38683665, 0.13713096, 1.3771895, 0.2520233...  \n",
       " 3         1  [-0.10760627, 0.59532815, 0.45957527, 0.179235...  \n",
       " 4         1  [-0.10760627, 0.59532815, 0.45957527, 0.179235...  \n",
       " 5         4  [-0.50687987, 0.05858981, 0.83646035, 0.584271...  \n",
       " 6         4  [-0.50687987, 0.05858981, 0.83646035, 0.584271...  \n",
       " 7         3  [-0.38683665, 0.13713096, 1.3771895, 0.2520233...  \n",
       " 8         1  [-0.10760627, 0.59532815, 0.45957527, 0.179235...  \n",
       " 9         4  [-0.50687987, 0.05858981, 0.83646035, 0.584271...  \n",
       " 10        2  [-0.24389471, 0.74007404, 0.79362875, -0.03213...  \n",
       " 11        1  [-0.10760627, 0.59532815, 0.45957527, 0.179235...  \n",
       " 12        4  [-0.50687987, 0.05858981, 0.83646035, 0.584271...  \n",
       " 13        3  [-0.38683665, 0.13713096, 1.3771895, 0.2520233...  \n",
       " 14        0  [-0.34778154, 0.43322685, 0.44358373, 0.361028...  \n",
       " 15        0  [-0.34778154, 0.43322685, 0.44358373, 0.361028...  \n",
       " 16        3  [-0.38683665, 0.13713096, 1.3771895, 0.2520233...  \n",
       " 17        4  [-0.50687987, 0.05858981, 0.83646035, 0.584271...  \n",
       " 18        3  [-0.38683665, 0.13713096, 1.3771895, 0.2520233...  \n",
       " 19        4  [-0.50687987, 0.05858981, 0.83646035, 0.584271...  \n",
       " 20        4  [-0.50687987, 0.05858981, 0.83646035, 0.584271...  ,\n",
       " [4, 0, 3, 1, 1, 4, 4, 3, 1, 4, 2, 1, 4, 3, 0, 0, 3, 4, 3, 4, 4])"
      ]
     },
     "execution_count": 92,
     "metadata": {},
     "output_type": "execute_result"
    }
   ],
   "source": [
    "from nltk.cluster import KMeansClusterer\n",
    "import nltk\n",
    "\n",
    "def clustering_question(data,NUM_CLUSTERS = 5):\n",
    "\n",
    "    sentences = data['text']\n",
    "\n",
    "    X = np.array(data['emb'].tolist())\n",
    "\n",
    "    kclusterer = KMeansClusterer(\n",
    "        NUM_CLUSTERS, distance=nltk.cluster.util.cosine_distance,\n",
    "        repeats=25,avoid_empty_clusters=True)\n",
    "\n",
    "    assigned_clusters = kclusterer.cluster(X, assign_clusters=True)\n",
    "\n",
    "    data['cluster'] = pd.Series(assigned_clusters, index=data.index)\n",
    "    data['centroid'] = data['cluster'].apply(lambda x: kclusterer.means()[x])\n",
    "\n",
    "    return data, assigned_clusters\n",
    "\n",
    "def distance_from_centroid(row):\n",
    "    # type of emb and centroid is different, hence using tolist below\n",
    "    return distance_matrix([row['emb']], [row['centroid'].tolist()])[0][0]\n",
    "\n",
    "# Compute centroid distance to the data\n",
    "#sentence_df['distance_from_centroid'] = sentence_df.apply(distance_from_centroid, axis=1)\n",
    "\n",
    "clustering_question(sentence_df)"
   ]
  },
  {
   "cell_type": "code",
   "execution_count": 96,
   "metadata": {},
   "outputs": [
    {
     "name": "stdout",
     "output_type": "stream",
     "text": [
      "                                                 text  \\\n",
      "1   Donald Trump Rips Mike Pence for Not Having Co...   \n",
      "14  Trumps impact on the line in Texas special ele...   \n",
      "15  AP FACT CHECK: Trump is relentless in election...   \n",
      "\n",
      "                                                  emb    sources  cluster  \\\n",
      "1   [-0.6118304, 0.61012614, 0.17613193, 0.3042496...   Newsweek        0   \n",
      "14  [-0.3577849, -0.37728858, 0.5586421, 0.4288315...   Politico        0   \n",
      "15  [-0.07392996, 1.0663792, 0.5958656, 0.35001138...  KSNBlocal        0   \n",
      "\n",
      "                                             centroid  \n",
      "1   [-0.34778154, 0.43322685, 0.44358373, 0.361028...  \n",
      "14  [-0.34778154, 0.43322685, 0.44358373, 0.361028...  \n",
      "15  [-0.34778154, 0.43322685, 0.44358373, 0.361028...  \n"
     ]
    }
   ],
   "source": [
    "filter = sentence_df.cluster.eq(0)\n",
    "print(sentence_df[filter])"
   ]
  },
  {
   "cell_type": "code",
   "execution_count": 97,
   "metadata": {},
   "outputs": [
    {
     "name": "stdout",
     "output_type": "stream",
     "text": [
      "                                                 text  \\\n",
      "3   Personal threats, election lies and punishing ...   \n",
      "4   Nicaragua: Another presidential contender arre...   \n",
      "8   Arizona GOP Lawmaker Booed Off Stage at Trump ...   \n",
      "11  Housing, homelessness at forefront as Seattle ...   \n",
      "\n",
      "                                                  emb            sources  \\\n",
      "3   [0.0055751894, 0.52150637, 0.65236294, 0.03890...                CNN   \n",
      "4   [-0.6060503, -0.18584813, 0.5675973, 0.4749131...                 DW   \n",
      "8   [-0.08417319, 1.0602788, -0.18716964, 0.128213...           Newsweek   \n",
      "11  [0.25419423, 0.9853946, 0.8054611, 0.074949816...  The Seattle Times   \n",
      "\n",
      "    cluster                                           centroid  \n",
      "3         1  [-0.10760627, 0.59532815, 0.45957527, 0.179235...  \n",
      "4         1  [-0.10760627, 0.59532815, 0.45957527, 0.179235...  \n",
      "8         1  [-0.10760627, 0.59532815, 0.45957527, 0.179235...  \n",
      "11        1  [-0.10760627, 0.59532815, 0.45957527, 0.179235...  \n"
     ]
    }
   ],
   "source": [
    "filter = sentence_df.cluster.eq(1)\n",
    "print(sentence_df[filter])"
   ]
  },
  {
   "cell_type": "code",
   "execution_count": 48,
   "metadata": {},
   "outputs": [
    {
     "ename": "NameError",
     "evalue": "name 'data' is not defined",
     "output_type": "error",
     "traceback": [
      "\u001b[1;31m---------------------------------------------------------------------------\u001b[0m",
      "\u001b[1;31mNameError\u001b[0m                                 Traceback (most recent call last)",
      "\u001b[1;32m<ipython-input-48-2098cceb5032>\u001b[0m in \u001b[0;36m<module>\u001b[1;34m\u001b[0m\n\u001b[0;32m     24\u001b[0m \u001b[1;33m\u001b[0m\u001b[0m\n\u001b[0;32m     25\u001b[0m \u001b[1;31m# Compute centroid distance to the data\u001b[0m\u001b[1;33m\u001b[0m\u001b[1;33m\u001b[0m\u001b[1;33m\u001b[0m\u001b[0m\n\u001b[1;32m---> 26\u001b[1;33m \u001b[0mdata\u001b[0m\u001b[1;33m[\u001b[0m\u001b[1;34m'distance_from_centroid'\u001b[0m\u001b[1;33m]\u001b[0m \u001b[1;33m=\u001b[0m \u001b[0mdata\u001b[0m\u001b[1;33m.\u001b[0m\u001b[0mapply\u001b[0m\u001b[1;33m(\u001b[0m\u001b[0mdistance_from_centroid\u001b[0m\u001b[1;33m,\u001b[0m \u001b[0maxis\u001b[0m\u001b[1;33m=\u001b[0m\u001b[1;36m1\u001b[0m\u001b[1;33m)\u001b[0m\u001b[1;33m\u001b[0m\u001b[1;33m\u001b[0m\u001b[0m\n\u001b[0m\u001b[0;32m     27\u001b[0m \u001b[1;33m\u001b[0m\u001b[0m\n\u001b[0;32m     28\u001b[0m \u001b[0mclustering_question\u001b[0m\u001b[1;33m(\u001b[0m\u001b[0msentence_df\u001b[0m\u001b[1;33m)\u001b[0m\u001b[1;33m\u001b[0m\u001b[1;33m\u001b[0m\u001b[0m\n",
      "\u001b[1;31mNameError\u001b[0m: name 'data' is not defined"
     ]
    }
   ],
   "source": [
    "from nltk.cluster import KMeansClusterer\n",
    "import nltk\n",
    "\n",
    "def clustering_question(data,NUM_CLUSTERS = 2):\n",
    "\n",
    "    sentences = data['text']\n",
    "\n",
    "    X = np.array(data['emb'].tolist())\n",
    "\n",
    "    kclusterer = KMeansClusterer(\n",
    "        NUM_CLUSTERS, distance=nltk.cluster.util.cosine_distance,\n",
    "        repeats=25,avoid_empty_clusters=True)\n",
    "\n",
    "    assigned_clusters = kclusterer.cluster(X, assign_clusters=True)\n",
    "\n",
    "    data['cluster'] = pd.Series(assigned_clusters, index=data.index)\n",
    "    data['centroid'] = data['cluster'].apply(lambda x: kclusterer.means()[x])\n",
    "\n",
    "    return data, assigned_clusters\n",
    "\n",
    "def distance_from_centroid(row):\n",
    "    # type of emb and centroid is different, hence using tolist below\n",
    "    return distance_matrix([row['emb']], [row['centroid'].tolist()])[0][0]\n",
    "\n",
    "# Compute centroid distance to the data\n",
    "data['distance_from_centroid'] = data.apply(distance_from_centroid, axis=1)\n",
    "\n",
    "clustering_question(sentence_df)"
   ]
  },
  {
   "cell_type": "code",
   "execution_count": null,
   "metadata": {},
   "outputs": [],
   "source": [
    "def distance_from_centroid(row):\n",
    "    # type of emb and centroid is different, hence using tolist below\n",
    "    return distance_matrix([row['emb']], [row['centroid'].tolist()])[0][0]\n",
    "\n",
    "# Compute centroid distance to the data\n",
    "sentence_df['distance_from_centroid'] = sentence_df.apply(distance_from_centroid, axis=1)\n",
    "\n"
   ]
  },
  {
   "cell_type": "code",
   "execution_count": 7,
   "metadata": {},
   "outputs": [
    {
     "name": "stdout",
     "output_type": "stream",
     "text": [
      "\n",
      "[x] No compatible package found for 'en_trf_bertbaseuncased_lg' (spaCy v3.1.1)\n",
      "\n"
     ]
    }
   ],
   "source": [
    "! python -m pip install --upgrade pip --quiet\n",
    "! pip install spacy --quiet\n",
    "! pip3 install spacy-transformers --quiet\n",
    "! python -m spacy download en_trf_bertbaseuncased_lg --quiet\n"
   ]
  },
  {
   "cell_type": "code",
   "execution_count": 10,
   "metadata": {},
   "outputs": [
    {
     "ename": "NameError",
     "evalue": "name 'data' is not defined",
     "output_type": "error",
     "traceback": [
      "\u001b[1;31m---------------------------------------------------------------------------\u001b[0m",
      "\u001b[1;31mNameError\u001b[0m                                 Traceback (most recent call last)",
      "\u001b[1;32m<ipython-input-10-f135ae5e4d0a>\u001b[0m in \u001b[0;36m<module>\u001b[1;34m\u001b[0m\n\u001b[0;32m      5\u001b[0m \u001b[1;33m\u001b[0m\u001b[0m\n\u001b[0;32m      6\u001b[0m \u001b[1;31m# Generating sentence embedding from the text\u001b[0m\u001b[1;33m\u001b[0m\u001b[1;33m\u001b[0m\u001b[1;33m\u001b[0m\u001b[0m\n\u001b[1;32m----> 7\u001b[1;33m \u001b[0mdata\u001b[0m\u001b[1;33m[\u001b[0m\u001b[1;34m'emb'\u001b[0m\u001b[1;33m]\u001b[0m \u001b[1;33m=\u001b[0m \u001b[0mdata\u001b[0m\u001b[1;33m[\u001b[0m\u001b[1;34m'text'\u001b[0m\u001b[1;33m]\u001b[0m\u001b[1;33m.\u001b[0m\u001b[0mapply\u001b[0m\u001b[1;33m(\u001b[0m\u001b[0mget_embeddinngs\u001b[0m\u001b[1;33m)\u001b[0m\u001b[1;33m\u001b[0m\u001b[1;33m\u001b[0m\u001b[0m\n\u001b[0m",
      "\u001b[1;31mNameError\u001b[0m: name 'data' is not defined"
     ]
    }
   ],
   "source": [
    "#Load bert model\n",
    "nlp = en_trf_bertbaseuncased_lg.load()\n",
    "\n",
    "# Utility function for generating sentence embedding from the text\n",
    "def get_embeddinngs(text):\n",
    "    return nlp(text).vector\n",
    "\n",
    "# Generating sentence embedding from the text\n",
    "data['emb'] = data['text'].apply(get_embeddinngs)"
   ]
  },
  {
   "cell_type": "code",
   "execution_count": 6,
   "metadata": {},
   "outputs": [],
   "source": [
    "from nltk.cluster import KMeansClusterer\n",
    "import nltk\n",
    "\n",
    "def clustering_question(data,NUM_CLUSTERS = 2):\n",
    "\n",
    "    sentences = data['text']\n",
    "\n",
    "    X = np.array(data['emb'].tolist())\n",
    "\n",
    "    kclusterer = KMeansClusterer(\n",
    "        NUM_CLUSTERS, distance=nltk.cluster.util.cosine_distance,\n",
    "        repeats=25,avoid_empty_clusters=True)\n",
    "\n",
    "    assigned_clusters = kclusterer.cluster(X, assign_clusters=True)\n",
    "\n",
    "    data['cluster'] = pd.Series(assigned_clusters, index=data.index)\n",
    "    data['centroid'] = data['cluster'].apply(lambda x: kclusterer.means()[x])\n",
    "\n",
    "    return data, assigned_clusters\n",
    "\n",
    "def distance_from_centroid(row):\n",
    "    # type of emb and centroid is different, hence using tolist below\n",
    "    return distance_matrix([row['emb']], [row['centroid'].tolist()])[0][0]\n",
    "\n",
    "# Compute centroid distance to the data\n",
    "data['distance_from_centroid'] = data.apply(distance_from_centroid, axis=1)\n",
    "\n"
   ]
  },
  {
   "cell_type": "code",
   "execution_count": null,
   "metadata": {},
   "outputs": [],
   "source": []
  },
  {
   "cell_type": "code",
   "execution_count": null,
   "metadata": {},
   "outputs": [],
   "source": [
    "#K-means\n",
    "\n",
    "kmeans = KMeans(n_clusters=2).fit(deltadf)\n",
    "\n",
    "sklearn.cluster.k_means\n"
   ]
  }
 ],
 "metadata": {
  "kernelspec": {
   "display_name": "Python 3",
   "language": "python",
   "name": "python3"
  },
  "language_info": {
   "codemirror_mode": {
    "name": "ipython",
    "version": 3
   },
   "file_extension": ".py",
   "mimetype": "text/x-python",
   "name": "python",
   "nbconvert_exporter": "python",
   "pygments_lexer": "ipython3",
   "version": "3.8.5"
  }
 },
 "nbformat": 4,
 "nbformat_minor": 4
}
