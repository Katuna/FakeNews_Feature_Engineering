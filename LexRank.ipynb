{
 "cells": [
  {
   "cell_type": "code",
   "execution_count": 1,
   "metadata": {},
   "outputs": [
    {
     "ename": "KeyboardInterrupt",
     "evalue": "",
     "output_type": "error",
     "traceback": [
      "\u001b[1;31m---------------------------------------------------------------------------\u001b[0m",
      "\u001b[1;31mKeyboardInterrupt\u001b[0m                         Traceback (most recent call last)",
      "\u001b[1;32m<ipython-input-1-8c1b1091cd96>\u001b[0m in \u001b[0;36m<module>\u001b[1;34m\u001b[0m\n\u001b[0;32m      3\u001b[0m \u001b[1;33m\u001b[0m\u001b[0m\n\u001b[0;32m      4\u001b[0m \u001b[1;32mimport\u001b[0m \u001b[0mnltk\u001b[0m\u001b[1;33m\u001b[0m\u001b[1;33m\u001b[0m\u001b[0m\n\u001b[1;32m----> 5\u001b[1;33m \u001b[1;32mfrom\u001b[0m \u001b[0msentence_transformers\u001b[0m \u001b[1;32mimport\u001b[0m \u001b[0mSentenceTransformer\u001b[0m\u001b[1;33m,\u001b[0m \u001b[0mutil\u001b[0m\u001b[1;33m\u001b[0m\u001b[1;33m\u001b[0m\u001b[0m\n\u001b[0m\u001b[0;32m      6\u001b[0m \u001b[1;32mimport\u001b[0m \u001b[0mnumpy\u001b[0m \u001b[1;32mas\u001b[0m \u001b[0mnp\u001b[0m\u001b[1;33m\u001b[0m\u001b[1;33m\u001b[0m\u001b[0m\n\u001b[0;32m      7\u001b[0m \u001b[1;32mfrom\u001b[0m \u001b[0mlexrank\u001b[0m \u001b[1;32mimport\u001b[0m \u001b[0mdegree_centrality_scores\u001b[0m\u001b[1;33m\u001b[0m\u001b[1;33m\u001b[0m\u001b[0m\n",
      "\u001b[1;32mc:\\users\\katya\\sentence-transformers\\sentence_transformers\\__init__.py\u001b[0m in \u001b[0;36m<module>\u001b[1;34m\u001b[0m\n\u001b[0;32m      1\u001b[0m \u001b[0m__version__\u001b[0m \u001b[1;33m=\u001b[0m \u001b[1;34m\"2.0.0\"\u001b[0m\u001b[1;33m\u001b[0m\u001b[1;33m\u001b[0m\u001b[0m\n\u001b[0;32m      2\u001b[0m \u001b[0m__MODEL_HUB_ORGANIZATION__\u001b[0m \u001b[1;33m=\u001b[0m \u001b[1;34m'sentence-transformers'\u001b[0m\u001b[1;33m\u001b[0m\u001b[1;33m\u001b[0m\u001b[0m\n\u001b[1;32m----> 3\u001b[1;33m \u001b[1;32mfrom\u001b[0m \u001b[1;33m.\u001b[0m\u001b[0mdatasets\u001b[0m \u001b[1;32mimport\u001b[0m \u001b[0mSentencesDataset\u001b[0m\u001b[1;33m,\u001b[0m \u001b[0mParallelSentencesDataset\u001b[0m\u001b[1;33m\u001b[0m\u001b[1;33m\u001b[0m\u001b[0m\n\u001b[0m\u001b[0;32m      4\u001b[0m \u001b[1;32mfrom\u001b[0m \u001b[1;33m.\u001b[0m\u001b[0mLoggingHandler\u001b[0m \u001b[1;32mimport\u001b[0m \u001b[0mLoggingHandler\u001b[0m\u001b[1;33m\u001b[0m\u001b[1;33m\u001b[0m\u001b[0m\n\u001b[0;32m      5\u001b[0m \u001b[1;32mfrom\u001b[0m \u001b[1;33m.\u001b[0m\u001b[0mSentenceTransformer\u001b[0m \u001b[1;32mimport\u001b[0m \u001b[0mSentenceTransformer\u001b[0m\u001b[1;33m\u001b[0m\u001b[1;33m\u001b[0m\u001b[0m\n",
      "\u001b[1;32mc:\\users\\katya\\sentence-transformers\\sentence_transformers\\datasets\\__init__.py\u001b[0m in \u001b[0;36m<module>\u001b[1;34m\u001b[0m\n\u001b[1;32m----> 1\u001b[1;33m \u001b[1;32mfrom\u001b[0m \u001b[1;33m.\u001b[0m\u001b[0mDenoisingAutoEncoderDataset\u001b[0m \u001b[1;32mimport\u001b[0m \u001b[0mDenoisingAutoEncoderDataset\u001b[0m\u001b[1;33m\u001b[0m\u001b[1;33m\u001b[0m\u001b[0m\n\u001b[0m\u001b[0;32m      2\u001b[0m \u001b[1;32mfrom\u001b[0m \u001b[1;33m.\u001b[0m\u001b[0mNoDuplicatesDataLoader\u001b[0m \u001b[1;32mimport\u001b[0m \u001b[0mNoDuplicatesDataLoader\u001b[0m\u001b[1;33m\u001b[0m\u001b[1;33m\u001b[0m\u001b[0m\n\u001b[0;32m      3\u001b[0m \u001b[1;32mfrom\u001b[0m \u001b[1;33m.\u001b[0m\u001b[0mParallelSentencesDataset\u001b[0m \u001b[1;32mimport\u001b[0m \u001b[0mParallelSentencesDataset\u001b[0m\u001b[1;33m\u001b[0m\u001b[1;33m\u001b[0m\u001b[0m\n\u001b[0;32m      4\u001b[0m \u001b[1;32mfrom\u001b[0m \u001b[1;33m.\u001b[0m\u001b[0mSentencesDataset\u001b[0m \u001b[1;32mimport\u001b[0m \u001b[0mSentencesDataset\u001b[0m\u001b[1;33m\u001b[0m\u001b[1;33m\u001b[0m\u001b[0m\n\u001b[0;32m      5\u001b[0m \u001b[1;32mfrom\u001b[0m \u001b[1;33m.\u001b[0m\u001b[0mSentenceLabelDataset\u001b[0m \u001b[1;32mimport\u001b[0m \u001b[0mSentenceLabelDataset\u001b[0m\u001b[1;33m\u001b[0m\u001b[1;33m\u001b[0m\u001b[0m\n",
      "\u001b[1;32mc:\\users\\katya\\sentence-transformers\\sentence_transformers\\datasets\\DenoisingAutoEncoderDataset.py\u001b[0m in \u001b[0;36m<module>\u001b[1;34m\u001b[0m\n\u001b[0;32m      1\u001b[0m \u001b[1;32mfrom\u001b[0m \u001b[0mtorch\u001b[0m\u001b[1;33m.\u001b[0m\u001b[0mutils\u001b[0m\u001b[1;33m.\u001b[0m\u001b[0mdata\u001b[0m \u001b[1;32mimport\u001b[0m \u001b[0mDataset\u001b[0m\u001b[1;33m\u001b[0m\u001b[1;33m\u001b[0m\u001b[0m\n\u001b[0;32m      2\u001b[0m \u001b[1;32mfrom\u001b[0m \u001b[0mtyping\u001b[0m \u001b[1;32mimport\u001b[0m \u001b[0mList\u001b[0m\u001b[1;33m\u001b[0m\u001b[1;33m\u001b[0m\u001b[0m\n\u001b[1;32m----> 3\u001b[1;33m \u001b[1;32mfrom\u001b[0m \u001b[1;33m.\u001b[0m\u001b[1;33m.\u001b[0m\u001b[0mreaders\u001b[0m\u001b[1;33m.\u001b[0m\u001b[0mInputExample\u001b[0m \u001b[1;32mimport\u001b[0m \u001b[0mInputExample\u001b[0m\u001b[1;33m\u001b[0m\u001b[1;33m\u001b[0m\u001b[0m\n\u001b[0m\u001b[0;32m      4\u001b[0m \u001b[1;32mimport\u001b[0m \u001b[0mnumpy\u001b[0m \u001b[1;32mas\u001b[0m \u001b[0mnp\u001b[0m\u001b[1;33m\u001b[0m\u001b[1;33m\u001b[0m\u001b[0m\n\u001b[0;32m      5\u001b[0m \u001b[1;32mimport\u001b[0m \u001b[0mnltk\u001b[0m\u001b[1;33m\u001b[0m\u001b[1;33m\u001b[0m\u001b[0m\n",
      "\u001b[1;32mc:\\users\\katya\\sentence-transformers\\sentence_transformers\\readers\\__init__.py\u001b[0m in \u001b[0;36m<module>\u001b[1;34m\u001b[0m\n\u001b[0;32m      1\u001b[0m \u001b[1;32mfrom\u001b[0m \u001b[1;33m.\u001b[0m\u001b[0mInputExample\u001b[0m \u001b[1;32mimport\u001b[0m \u001b[0mInputExample\u001b[0m\u001b[1;33m\u001b[0m\u001b[1;33m\u001b[0m\u001b[0m\n\u001b[0;32m      2\u001b[0m \u001b[1;32mfrom\u001b[0m \u001b[1;33m.\u001b[0m\u001b[0mLabelSentenceReader\u001b[0m \u001b[1;32mimport\u001b[0m \u001b[0mLabelSentenceReader\u001b[0m\u001b[1;33m\u001b[0m\u001b[1;33m\u001b[0m\u001b[0m\n\u001b[1;32m----> 3\u001b[1;33m \u001b[1;32mfrom\u001b[0m \u001b[1;33m.\u001b[0m\u001b[0mNLIDataReader\u001b[0m \u001b[1;32mimport\u001b[0m \u001b[0mNLIDataReader\u001b[0m\u001b[1;33m\u001b[0m\u001b[1;33m\u001b[0m\u001b[0m\n\u001b[0m\u001b[0;32m      4\u001b[0m \u001b[1;32mfrom\u001b[0m \u001b[1;33m.\u001b[0m\u001b[0mSTSDataReader\u001b[0m \u001b[1;32mimport\u001b[0m \u001b[0mSTSDataReader\u001b[0m\u001b[1;33m,\u001b[0m \u001b[0mSTSBenchmarkDataReader\u001b[0m\u001b[1;33m\u001b[0m\u001b[1;33m\u001b[0m\u001b[0m\n\u001b[0;32m      5\u001b[0m \u001b[1;32mfrom\u001b[0m \u001b[1;33m.\u001b[0m\u001b[0mTripletReader\u001b[0m \u001b[1;32mimport\u001b[0m \u001b[0mTripletReader\u001b[0m\u001b[1;33m\u001b[0m\u001b[1;33m\u001b[0m\u001b[0m\n",
      "\u001b[1;32m~\\anaconda3\\lib\\importlib\\_bootstrap.py\u001b[0m in \u001b[0;36m_find_and_load\u001b[1;34m(name, import_)\u001b[0m\n",
      "\u001b[1;32m~\\anaconda3\\lib\\importlib\\_bootstrap.py\u001b[0m in \u001b[0;36m_find_and_load_unlocked\u001b[1;34m(name, import_)\u001b[0m\n",
      "\u001b[1;32m~\\anaconda3\\lib\\importlib\\_bootstrap.py\u001b[0m in \u001b[0;36m_find_spec\u001b[1;34m(name, path, target)\u001b[0m\n",
      "\u001b[1;32m~\\anaconda3\\lib\\importlib\\_bootstrap_external.py\u001b[0m in \u001b[0;36mfind_spec\u001b[1;34m(cls, fullname, path, target)\u001b[0m\n",
      "\u001b[1;32m~\\anaconda3\\lib\\importlib\\_bootstrap_external.py\u001b[0m in \u001b[0;36m_get_spec\u001b[1;34m(cls, fullname, path, target)\u001b[0m\n",
      "\u001b[1;32m~\\anaconda3\\lib\\importlib\\_bootstrap_external.py\u001b[0m in \u001b[0;36mfind_spec\u001b[1;34m(self, fullname, target)\u001b[0m\n",
      "\u001b[1;32m~\\anaconda3\\lib\\importlib\\_bootstrap_external.py\u001b[0m in \u001b[0;36m_path_stat\u001b[1;34m(path)\u001b[0m\n",
      "\u001b[1;31mKeyboardInterrupt\u001b[0m: "
     ]
    }
   ],
   "source": [
    "import sys\n",
    "#sys.path.append(\"../../lexrank/\")\n",
    "\n",
    "import nltk\n",
    "from sentence_transformers import SentenceTransformer, util\n",
    "import numpy as np\n",
    "from lexrank import degree_centrality_scores\n",
    "\n",
    "model = SentenceTransformer('paraphrase-distilroberta-base-v1')\n",
    "\n",
    "# Our input document we want to summarize\n",
    "# As example, we take the first section from Wikipedia\n",
    "document = \"\"\"\n",
    "New York City (NYC), often called simply New York, is the most populous city in the United States. With an estimated 2019 population of 8,336,817 distributed over about 302.6 square miles (784 km2), New York City is also the most densely populated major city in the United States. Located at the southern tip of the U.S. state of New York, the city is the center of the New York metropolitan area, the largest metropolitan area in the world by urban landmass. With almost 20 million people in its metropolitan statistical area and approximately 23 million in its combined statistical area, it is one of the world's most populous megacities. New York City has been described as the cultural, financial, and media capital of the world, significantly influencing commerce, entertainment, research, technology, education, politics, tourism, art, fashion, and sports. Home to the headquarters of the United Nations, New York is an important center for international diplomacy.\n",
    "Situated on one of the world's largest natural harbors, New York City is composed of five boroughs, each of which is a county of the State of New York. The five boroughs—Brooklyn, Queens, Manhattan, the Bronx, and Staten Island—were consolidated into a single city in 1898. The city and its metropolitan area constitute the premier gateway for legal immigration to the United States. As many as 800 languages are spoken in New York, making it the most linguistically diverse city in the world. New York is home to more than 3.2 million residents born outside the United States, the largest foreign-born population of any city in the world as of 2016. As of 2019, the New York metropolitan area is estimated to produce a gross metropolitan product (GMP) of $2.0 trillion. If the New York metropolitan area were a sovereign state, it would have the eighth-largest economy in the world. New York is home to the highest number of billionaires of any city in the world.\n",
    "New York City traces its origins to a trading post founded by colonists from the Dutch Republic in 1624 on Lower Manhattan; the post was named New Amsterdam in 1626. The city and its surroundings came under English control in 1664 and were renamed New York after King Charles II of England granted the lands to his brother, the Duke of York. The city was regained by the Dutch in July 1673 and was subsequently renamed New Orange for one year and three months; the city has been continuously named New York since November 1674. New York City was the capital of the United States from 1785 until 1790, and has been the largest U.S. city since 1790. The Statue of Liberty greeted millions of immigrants as they came to the U.S. by ship in the late 19th and early 20th centuries, and is a symbol of the U.S. and its ideals of liberty and peace. In the 21st century, New York has emerged as a global node of creativity, entrepreneurship, and environmental sustainability, and as a symbol of freedom and cultural diversity. In 2019, New York was voted the greatest city in the world per a survey of over 30,000 people from 48 cities worldwide, citing its cultural diversity.\n",
    "Many districts and landmarks in New York City are well known, including three of the world's ten most visited tourist attractions in 2013. A record 62.8 million tourists visited New York City in 2017. Times Square is the brightly illuminated hub of the Broadway Theater District, one of the world's busiest pedestrian intersections, and a major center of the world's entertainment industry. Many of the city's landmarks, skyscrapers, and parks are known around the world. Manhattan's real estate market is among the most expensive in the world. Providing continuous 24/7 service and contributing to the nickname The City that Never Sleeps, the New York City Subway is the largest single-operator rapid transit system worldwide, with 472 rail stations. The city has over 120 colleges and universities, including Columbia University, New York University, Rockefeller University, and the City University of New York system, which is the largest urban public university system in the United States. Anchored by Wall Street in the Financial District of Lower Manhattan, New York City has been called both the world's leading financial center and the most financially powerful city in the world, and is home to the world's two largest stock exchanges by total market capitalization, the New York Stock Exchange and NASDAQ.\n",
    "\"\"\"\n",
    "\n",
    "#Split the document into sentences\n",
    "sentences = nltk.sent_tokenize(document)\n",
    "print(\"Num sentences:\", len(sentences))\n",
    "\n",
    "#Compute the sentence embeddings\n",
    "embeddings = model.encode(sentences, convert_to_tensor=True)\n",
    "\n",
    "#Compute the pair-wise cosine similarities\n",
    "cos_scores = util.cos_sim(embeddings, embeddings).numpy()\n",
    "\n",
    "#Compute the centrality for each sentence\n",
    "centrality_scores = degree_centrality_scores(cos_scores, threshold=None)\n",
    "\n",
    "#We argsort so that the first element is the sentence with the highest score\n",
    "most_central_sentence_indices = np.argsort(-centrality_scores)\n",
    "\n",
    "\n",
    "#Print the 5 sentences with the highest scores\n",
    "print(\"\\n\\nSummary:\")\n",
    "for idx in most_central_sentence_indices[0:5]:\n",
    "    print(sentences[idx].strip())"
   ]
  },
  {
   "cell_type": "code",
   "execution_count": 20,
   "metadata": {},
   "outputs": [
    {
     "ename": "ImportError",
     "evalue": "cannot import name 'degree_centrality_scores' from 'lexrank' (C:\\Users\\katya\\anaconda3\\lib\\site-packages\\lexrank\\__init__.py)",
     "output_type": "error",
     "traceback": [
      "\u001b[1;31m---------------------------------------------------------------------------\u001b[0m",
      "\u001b[1;31mImportError\u001b[0m                               Traceback (most recent call last)",
      "\u001b[1;32m<ipython-input-20-2a4644ccdd68>\u001b[0m in \u001b[0;36m<module>\u001b[1;34m\u001b[0m\n\u001b[0;32m      5\u001b[0m \u001b[1;32mfrom\u001b[0m \u001b[0msentence_transformers\u001b[0m \u001b[1;32mimport\u001b[0m \u001b[0mSentenceTransformer\u001b[0m\u001b[1;33m,\u001b[0m \u001b[0mutil\u001b[0m\u001b[1;33m\u001b[0m\u001b[1;33m\u001b[0m\u001b[0m\n\u001b[0;32m      6\u001b[0m \u001b[1;32mimport\u001b[0m \u001b[0mnumpy\u001b[0m \u001b[1;32mas\u001b[0m \u001b[0mnp\u001b[0m\u001b[1;33m\u001b[0m\u001b[1;33m\u001b[0m\u001b[0m\n\u001b[1;32m----> 7\u001b[1;33m \u001b[1;32mfrom\u001b[0m \u001b[0mlexrank\u001b[0m \u001b[1;32mimport\u001b[0m \u001b[0mdegree_centrality_scores\u001b[0m\u001b[1;33m\u001b[0m\u001b[1;33m\u001b[0m\u001b[0m\n\u001b[0m\u001b[0;32m      8\u001b[0m \u001b[1;33m\u001b[0m\u001b[0m\n\u001b[0;32m      9\u001b[0m \u001b[0mmodel\u001b[0m \u001b[1;33m=\u001b[0m \u001b[0mSentenceTransformer\u001b[0m\u001b[1;33m(\u001b[0m\u001b[1;34m'paraphrase-distilroberta-base-v1'\u001b[0m\u001b[1;33m)\u001b[0m\u001b[1;33m\u001b[0m\u001b[1;33m\u001b[0m\u001b[0m\n",
      "\u001b[1;31mImportError\u001b[0m: cannot import name 'degree_centrality_scores' from 'lexrank' (C:\\Users\\katya\\anaconda3\\lib\\site-packages\\lexrank\\__init__.py)"
     ]
    }
   ],
   "source": [
    "import sys\n",
    "#sys.path.append(\"../../lexrank/\")\n",
    "\n",
    "import nltk\n",
    "from sentence_transformers import SentenceTransformer, util\n",
    "import numpy as np\n",
    "from lexrank import degree_centrality_scores\n",
    "\n",
    "model = SentenceTransformer('paraphrase-distilroberta-base-v1')\n",
    "print(sys.path)"
   ]
  },
  {
   "cell_type": "code",
   "execution_count": 16,
   "metadata": {},
   "outputs": [
    {
     "name": "stderr",
     "output_type": "stream",
     "text": [
      "[nltk_data] Downloading package punkt to\n",
      "[nltk_data]     C:\\Users\\katya\\AppData\\Roaming\\nltk_data...\n",
      "[nltk_data]   Unzipping tokenizers\\punkt.zip.\n"
     ]
    },
    {
     "data": {
      "text/plain": [
       "True"
      ]
     },
     "execution_count": 16,
     "metadata": {},
     "output_type": "execute_result"
    }
   ],
   "source": [
    "import nltk\n",
    "nltk.download('punkt')"
   ]
  },
  {
   "cell_type": "code",
   "execution_count": 22,
   "metadata": {},
   "outputs": [],
   "source": [
    "import pandas as pd\n",
    "data = pd.read_csv('C:/Users/katya/Fake_News/true_cluster.csv')"
   ]
  },
  {
   "cell_type": "code",
   "execution_count": 23,
   "metadata": {
    "scrolled": true
   },
   "outputs": [
    {
     "data": {
      "text/html": [
       "<div>\n",
       "<style scoped>\n",
       "    .dataframe tbody tr th:only-of-type {\n",
       "        vertical-align: middle;\n",
       "    }\n",
       "\n",
       "    .dataframe tbody tr th {\n",
       "        vertical-align: top;\n",
       "    }\n",
       "\n",
       "    .dataframe thead th {\n",
       "        text-align: right;\n",
       "    }\n",
       "</style>\n",
       "<table border=\"1\" class=\"dataframe\">\n",
       "  <thead>\n",
       "    <tr style=\"text-align: right;\">\n",
       "      <th></th>\n",
       "      <th>Unnamed: 0</th>\n",
       "      <th>text</th>\n",
       "      <th>emb</th>\n",
       "      <th>cluster</th>\n",
       "      <th>centroid</th>\n",
       "    </tr>\n",
       "  </thead>\n",
       "  <tbody>\n",
       "    <tr>\n",
       "      <th>0</th>\n",
       "      <td>0</td>\n",
       "      <td>As U.S. budget fight looms, Republicans flip t...</td>\n",
       "      <td>[-5.99236488e-01  4.58733827e-01 -3.43493462e-...</td>\n",
       "      <td>0</td>\n",
       "      <td>[-1.02626368e-01  5.29365420e-01  3.57576579e-...</td>\n",
       "    </tr>\n",
       "    <tr>\n",
       "      <th>1</th>\n",
       "      <td>1</td>\n",
       "      <td>U.S. military to accept transgender recruits o...</td>\n",
       "      <td>[ 6.96382150e-02  5.36555052e-01  4.59249616e-...</td>\n",
       "      <td>1</td>\n",
       "      <td>[-2.44271383e-01  3.61957341e-01  5.96904397e-...</td>\n",
       "    </tr>\n",
       "    <tr>\n",
       "      <th>2</th>\n",
       "      <td>2</td>\n",
       "      <td>Senior U.S. Republican senator: 'Let Mr. Muell...</td>\n",
       "      <td>[-8.98043096e-01  8.42623949e-01 -1.38611987e-...</td>\n",
       "      <td>1</td>\n",
       "      <td>[-2.44271383e-01  3.61957341e-01  5.96904397e-...</td>\n",
       "    </tr>\n",
       "    <tr>\n",
       "      <th>3</th>\n",
       "      <td>3</td>\n",
       "      <td>FBI Russia probe helped by Australian diplomat...</td>\n",
       "      <td>[-6.02767058e-03  3.45236689e-01 -7.65396729e-...</td>\n",
       "      <td>1</td>\n",
       "      <td>[-2.44271383e-01  3.61957341e-01  5.96904397e-...</td>\n",
       "    </tr>\n",
       "    <tr>\n",
       "      <th>4</th>\n",
       "      <td>4</td>\n",
       "      <td>Trump wants Postal Service to charge 'much mor...</td>\n",
       "      <td>[-6.15101099e-01  1.72620639e-01 -2.35318374e-...</td>\n",
       "      <td>1</td>\n",
       "      <td>[-2.44271383e-01  3.61957341e-01  5.96904397e-...</td>\n",
       "    </tr>\n",
       "    <tr>\n",
       "      <th>...</th>\n",
       "      <td>...</td>\n",
       "      <td>...</td>\n",
       "      <td>...</td>\n",
       "      <td>...</td>\n",
       "      <td>...</td>\n",
       "    </tr>\n",
       "    <tr>\n",
       "      <th>20821</th>\n",
       "      <td>20821</td>\n",
       "      <td>North Korea shipments to Syria chemical arms a...</td>\n",
       "      <td>[-8.71964917e-02  9.99625683e-01 -5.22511899e-...</td>\n",
       "      <td>0</td>\n",
       "      <td>[-1.02626368e-01  5.29365420e-01  3.57576579e-...</td>\n",
       "    </tr>\n",
       "    <tr>\n",
       "      <th>20822</th>\n",
       "      <td>20822</td>\n",
       "      <td>LexisNexis withdrew two products from Chinese ...</td>\n",
       "      <td>[-5.78668676e-02  6.62701488e-01 -5.18275201e-...</td>\n",
       "      <td>0</td>\n",
       "      <td>[-1.02626368e-01  5.29365420e-01  3.57576579e-...</td>\n",
       "    </tr>\n",
       "    <tr>\n",
       "      <th>20823</th>\n",
       "      <td>20823</td>\n",
       "      <td>Minsk cultural hub becomes haven from authorities</td>\n",
       "      <td>[-9.26036984e-02  3.09263349e-01  1.36406159e+...</td>\n",
       "      <td>0</td>\n",
       "      <td>[-1.02626368e-01  5.29365420e-01  3.57576579e-...</td>\n",
       "    </tr>\n",
       "    <tr>\n",
       "      <th>20824</th>\n",
       "      <td>20824</td>\n",
       "      <td>Vatican upbeat on possibility of Pope Francis ...</td>\n",
       "      <td>[-4.88472641e-01  2.18043089e-01  1.41458595e+...</td>\n",
       "      <td>1</td>\n",
       "      <td>[-2.44271383e-01  3.61957341e-01  5.96904397e-...</td>\n",
       "    </tr>\n",
       "    <tr>\n",
       "      <th>20825</th>\n",
       "      <td>20825</td>\n",
       "      <td>Indonesia to buy $1.14 billion worth of Russia...</td>\n",
       "      <td>[-2.63174266e-01  5.43625772e-01 -9.43516076e-...</td>\n",
       "      <td>1</td>\n",
       "      <td>[-2.44271383e-01  3.61957341e-01  5.96904397e-...</td>\n",
       "    </tr>\n",
       "  </tbody>\n",
       "</table>\n",
       "<p>20826 rows × 5 columns</p>\n",
       "</div>"
      ],
      "text/plain": [
       "       Unnamed: 0                                               text  \\\n",
       "0               0  As U.S. budget fight looms, Republicans flip t...   \n",
       "1               1  U.S. military to accept transgender recruits o...   \n",
       "2               2  Senior U.S. Republican senator: 'Let Mr. Muell...   \n",
       "3               3  FBI Russia probe helped by Australian diplomat...   \n",
       "4               4  Trump wants Postal Service to charge 'much mor...   \n",
       "...           ...                                                ...   \n",
       "20821       20821  North Korea shipments to Syria chemical arms a...   \n",
       "20822       20822  LexisNexis withdrew two products from Chinese ...   \n",
       "20823       20823  Minsk cultural hub becomes haven from authorities   \n",
       "20824       20824  Vatican upbeat on possibility of Pope Francis ...   \n",
       "20825       20825  Indonesia to buy $1.14 billion worth of Russia...   \n",
       "\n",
       "                                                     emb  cluster  \\\n",
       "0      [-5.99236488e-01  4.58733827e-01 -3.43493462e-...        0   \n",
       "1      [ 6.96382150e-02  5.36555052e-01  4.59249616e-...        1   \n",
       "2      [-8.98043096e-01  8.42623949e-01 -1.38611987e-...        1   \n",
       "3      [-6.02767058e-03  3.45236689e-01 -7.65396729e-...        1   \n",
       "4      [-6.15101099e-01  1.72620639e-01 -2.35318374e-...        1   \n",
       "...                                                  ...      ...   \n",
       "20821  [-8.71964917e-02  9.99625683e-01 -5.22511899e-...        0   \n",
       "20822  [-5.78668676e-02  6.62701488e-01 -5.18275201e-...        0   \n",
       "20823  [-9.26036984e-02  3.09263349e-01  1.36406159e+...        0   \n",
       "20824  [-4.88472641e-01  2.18043089e-01  1.41458595e+...        1   \n",
       "20825  [-2.63174266e-01  5.43625772e-01 -9.43516076e-...        1   \n",
       "\n",
       "                                                centroid  \n",
       "0      [-1.02626368e-01  5.29365420e-01  3.57576579e-...  \n",
       "1      [-2.44271383e-01  3.61957341e-01  5.96904397e-...  \n",
       "2      [-2.44271383e-01  3.61957341e-01  5.96904397e-...  \n",
       "3      [-2.44271383e-01  3.61957341e-01  5.96904397e-...  \n",
       "4      [-2.44271383e-01  3.61957341e-01  5.96904397e-...  \n",
       "...                                                  ...  \n",
       "20821  [-1.02626368e-01  5.29365420e-01  3.57576579e-...  \n",
       "20822  [-1.02626368e-01  5.29365420e-01  3.57576579e-...  \n",
       "20823  [-1.02626368e-01  5.29365420e-01  3.57576579e-...  \n",
       "20824  [-2.44271383e-01  3.61957341e-01  5.96904397e-...  \n",
       "20825  [-2.44271383e-01  3.61957341e-01  5.96904397e-...  \n",
       "\n",
       "[20826 rows x 5 columns]"
      ]
     },
     "execution_count": 23,
     "metadata": {},
     "output_type": "execute_result"
    }
   ],
   "source": [
    "data"
   ]
  },
  {
   "cell_type": "code",
   "execution_count": 27,
   "metadata": {},
   "outputs": [
    {
     "data": {
      "text/plain": [
       "'As U.S. budget fight looms, Republicans flip their fiscal script'"
      ]
     },
     "execution_count": 27,
     "metadata": {},
     "output_type": "execute_result"
    }
   ],
   "source": [
    "text = data['text']\n",
    "text[0]"
   ]
  },
  {
   "cell_type": "code",
   "execution_count": null,
   "metadata": {},
   "outputs": [],
   "source": [
    "tokenizer = nltk.data.load('tokenizers/punkt/english.pickle')\n",
    "fp = open(\"test.txt\")\n",
    "data = fp.read()\n",
    "print '\\n-----\\n'.join(tokenizer.tokenize(data))"
   ]
  },
  {
   "cell_type": "code",
   "execution_count": 7,
   "metadata": {},
   "outputs": [
    {
     "ename": "ImportError",
     "evalue": "cannot import name 'degree_centrality_scores' from 'lexrank' (C:\\Users\\katya\\anaconda3\\lib\\site-packages\\lexrank\\__init__.py)",
     "output_type": "error",
     "traceback": [
      "\u001b[1;31m---------------------------------------------------------------------------\u001b[0m",
      "\u001b[1;31mImportError\u001b[0m                               Traceback (most recent call last)",
      "\u001b[1;32m<ipython-input-7-ed274d9691ee>\u001b[0m in \u001b[0;36m<module>\u001b[1;34m\u001b[0m\n\u001b[0;32m      2\u001b[0m \u001b[1;32mfrom\u001b[0m \u001b[0msentence_transformers\u001b[0m \u001b[1;32mimport\u001b[0m \u001b[0mSentenceTransformer\u001b[0m\u001b[1;33m,\u001b[0m \u001b[0mutil\u001b[0m\u001b[1;33m\u001b[0m\u001b[1;33m\u001b[0m\u001b[0m\n\u001b[0;32m      3\u001b[0m \u001b[1;32mimport\u001b[0m \u001b[0mnumpy\u001b[0m \u001b[1;32mas\u001b[0m \u001b[0mnp\u001b[0m\u001b[1;33m\u001b[0m\u001b[1;33m\u001b[0m\u001b[0m\n\u001b[1;32m----> 4\u001b[1;33m \u001b[1;32mfrom\u001b[0m \u001b[0mlexrank\u001b[0m \u001b[1;32mimport\u001b[0m \u001b[0mdegree_centrality_scores\u001b[0m\u001b[1;33m\u001b[0m\u001b[1;33m\u001b[0m\u001b[0m\n\u001b[0m",
      "\u001b[1;31mImportError\u001b[0m: cannot import name 'degree_centrality_scores' from 'lexrank' (C:\\Users\\katya\\anaconda3\\lib\\site-packages\\lexrank\\__init__.py)"
     ]
    }
   ],
   "source": [
    "import nltk\n",
    "from sentence_transformers import SentenceTransformer, util\n",
    "import numpy as np\n",
    "from lexrank import degree_centrality_scores\n"
   ]
  },
  {
   "cell_type": "code",
   "execution_count": 29,
   "metadata": {},
   "outputs": [
    {
     "name": "stdout",
     "output_type": "stream",
     "text": [
      "3.8.5 (default, Sep  3 2020, 21:29:08) [MSC v.1916 64 bit (AMD64)]\n"
     ]
    }
   ],
   "source": [
    "import sys\n",
    "print (sys.version)"
   ]
  },
  {
   "cell_type": "code",
   "execution_count": 25,
   "metadata": {},
   "outputs": [
    {
     "ename": "ImportError",
     "evalue": "cannot import name 'create_markov_matrix' from 'lexrank.algorithms.power_method' (C:\\Users\\katya\\anaconda3\\lib\\site-packages\\lexrank\\algorithms\\power_method.py)",
     "output_type": "error",
     "traceback": [
      "\u001b[1;31m---------------------------------------------------------------------------\u001b[0m",
      "\u001b[1;31mImportError\u001b[0m                               Traceback (most recent call last)",
      "\u001b[1;32m~\\lexrank\\lexrank\\lexrank.py\u001b[0m in \u001b[0;36m<module>\u001b[1;34m\u001b[0m\n\u001b[0;32m      4\u001b[0m \u001b[1;32mimport\u001b[0m \u001b[0mnumpy\u001b[0m \u001b[1;32mas\u001b[0m \u001b[0mnp\u001b[0m\u001b[1;33m\u001b[0m\u001b[1;33m\u001b[0m\u001b[0m\n\u001b[0;32m      5\u001b[0m \u001b[1;33m\u001b[0m\u001b[0m\n\u001b[1;32m----> 6\u001b[1;33m from lexrank.algorithms.power_method import (\n\u001b[0m\u001b[0;32m      7\u001b[0m     \u001b[0mcreate_markov_matrix\u001b[0m\u001b[1;33m,\u001b[0m \u001b[0mcreate_markov_matrix_discrete\u001b[0m\u001b[1;33m,\u001b[0m\u001b[1;33m\u001b[0m\u001b[1;33m\u001b[0m\u001b[0m\n\u001b[0;32m      8\u001b[0m     \u001b[0mstationary_distribution\u001b[0m\u001b[1;33m,\u001b[0m\u001b[1;33m\u001b[0m\u001b[1;33m\u001b[0m\u001b[0m\n",
      "\u001b[1;31mImportError\u001b[0m: cannot import name 'create_markov_matrix' from 'lexrank.algorithms.power_method' (C:\\Users\\katya\\anaconda3\\lib\\site-packages\\lexrank\\algorithms\\power_method.py)"
     ]
    }
   ],
   "source": [
    "%run C:/Users/katya/lexrank/lexrank/lexrank.py"
   ]
  },
  {
   "cell_type": "code",
   "execution_count": 10,
   "metadata": {},
   "outputs": [
    {
     "data": {
      "text/plain": [
       "['C:\\\\Users\\\\katya\\\\Fake_News',\n",
       " 'C:\\\\Users\\\\katya\\\\anaconda3\\\\python38.zip',\n",
       " 'C:\\\\Users\\\\katya\\\\anaconda3\\\\DLLs',\n",
       " 'C:\\\\Users\\\\katya\\\\anaconda3\\\\lib',\n",
       " 'C:\\\\Users\\\\katya\\\\anaconda3',\n",
       " '',\n",
       " 'C:\\\\Users\\\\katya\\\\anaconda3\\\\lib\\\\site-packages',\n",
       " 'C:\\\\Users\\\\katya\\\\anaconda3\\\\lib\\\\site-packages\\\\sentence_transformers-2.0.0-py3.8.egg',\n",
       " 'C:\\\\Users\\\\katya\\\\anaconda3\\\\lib\\\\site-packages\\\\certifi-2021.5.30-py3.8.egg',\n",
       " 'C:\\\\Users\\\\katya\\\\anaconda3\\\\lib\\\\site-packages\\\\win32',\n",
       " 'C:\\\\Users\\\\katya\\\\anaconda3\\\\lib\\\\site-packages\\\\win32\\\\lib',\n",
       " 'C:\\\\Users\\\\katya\\\\anaconda3\\\\lib\\\\site-packages\\\\Pythonwin',\n",
       " 'C:\\\\Users\\\\katya\\\\anaconda3\\\\lib\\\\site-packages\\\\IPython\\\\extensions',\n",
       " 'C:\\\\Users\\\\katya\\\\.ipython']"
      ]
     },
     "execution_count": 10,
     "metadata": {},
     "output_type": "execute_result"
    }
   ],
   "source": [
    "sys.path"
   ]
  },
  {
   "cell_type": "code",
   "execution_count": 11,
   "metadata": {},
   "outputs": [],
   "source": [
    "import os\n",
    "current_path = os.getcwd()"
   ]
  },
  {
   "cell_type": "code",
   "execution_count": 12,
   "metadata": {},
   "outputs": [
    {
     "data": {
      "text/plain": [
       "'C:\\\\Users\\\\katya\\\\Fake_News'"
      ]
     },
     "execution_count": 12,
     "metadata": {},
     "output_type": "execute_result"
    }
   ],
   "source": [
    "current_path"
   ]
  },
  {
   "cell_type": "code",
   "execution_count": 15,
   "metadata": {},
   "outputs": [],
   "source": [
    "import sys\n",
    "sys.path.append(\"C:\\\\Users\\\\katya\\\\anaconda3\\\\lib\\\\site-packages\\\\lexrank\")\n"
   ]
  },
  {
   "cell_type": "code",
   "execution_count": 29,
   "metadata": {},
   "outputs": [
    {
     "data": {
      "text/plain": [
       "['C:\\\\Users\\\\katya\\\\Fake_News',\n",
       " 'C:\\\\Users\\\\katya\\\\anaconda3\\\\python38.zip',\n",
       " 'C:\\\\Users\\\\katya\\\\anaconda3\\\\DLLs',\n",
       " 'C:\\\\Users\\\\katya\\\\anaconda3\\\\lib',\n",
       " 'C:\\\\Users\\\\katya\\\\anaconda3',\n",
       " '',\n",
       " 'C:\\\\Users\\\\katya\\\\anaconda3\\\\lib\\\\site-packages',\n",
       " 'C:\\\\Users\\\\katya\\\\anaconda3\\\\lib\\\\site-packages\\\\sentence_transformers-2.0.0-py3.8.egg',\n",
       " 'C:\\\\Users\\\\katya\\\\anaconda3\\\\lib\\\\site-packages\\\\certifi-2021.5.30-py3.8.egg',\n",
       " 'C:\\\\Users\\\\katya\\\\anaconda3\\\\lib\\\\site-packages\\\\win32',\n",
       " 'C:\\\\Users\\\\katya\\\\anaconda3\\\\lib\\\\site-packages\\\\win32\\\\lib',\n",
       " 'C:\\\\Users\\\\katya\\\\anaconda3\\\\lib\\\\site-packages\\\\Pythonwin',\n",
       " 'C:\\\\Users\\\\katya\\\\anaconda3\\\\lib\\\\site-packages\\\\IPython\\\\extensions',\n",
       " 'C:\\\\Users\\\\katya\\\\.ipython',\n",
       " 'C:\\\\Users\\\\katya\\\\lexrank']"
      ]
     },
     "execution_count": 29,
     "metadata": {},
     "output_type": "execute_result"
    }
   ],
   "source": [
    "sys.path"
   ]
  },
  {
   "cell_type": "code",
   "execution_count": 30,
   "metadata": {},
   "outputs": [],
   "source": [
    "sys.path = ['C:\\\\Users\\\\katya\\\\lexrank\\\\lexrank',\n",
    "'C:\\\\Users\\\\katya\\\\Fake_News',\n",
    " 'C:\\\\Users\\\\katya\\\\anaconda3\\\\python38.zip',\n",
    " 'C:\\\\Users\\\\katya\\\\anaconda3\\\\DLLs',\n",
    " 'C:\\\\Users\\\\katya\\\\anaconda3\\\\lib',\n",
    " 'C:\\\\Users\\\\katya\\\\anaconda3',\n",
    " '',\n",
    " 'C:\\\\Users\\\\katya\\\\anaconda3\\\\lib\\\\site-packages',\n",
    " 'C:\\\\Users\\\\katya\\\\anaconda3\\\\lib\\\\site-packages\\\\sentence_transformers-2.0.0-py3.8.egg',\n",
    " 'C:\\\\Users\\\\katya\\\\anaconda3\\\\lib\\\\site-packages\\\\certifi-2021.5.30-py3.8.egg',\n",
    " 'C:\\\\Users\\\\katya\\\\anaconda3\\\\lib\\\\site-packages\\\\win32',\n",
    " 'C:\\\\Users\\\\katya\\\\anaconda3\\\\lib\\\\site-packages\\\\win32\\\\lib',\n",
    " 'C:\\\\Users\\\\katya\\\\anaconda3\\\\lib\\\\site-packages\\\\Pythonwin',\n",
    " 'C:\\\\Users\\\\katya\\\\anaconda3\\\\lib\\\\site-packages\\\\IPython\\\\extensions',\n",
    " 'C:\\\\Users\\\\katya\\\\.ipython']"
   ]
  },
  {
   "cell_type": "code",
   "execution_count": 31,
   "metadata": {},
   "outputs": [],
   "source": [
    "from lexrank import LexRank"
   ]
  },
  {
   "cell_type": "code",
   "execution_count": 43,
   "metadata": {},
   "outputs": [
    {
     "ename": "ImportError",
     "evalue": "cannot import name 'create_markov_matrix' from 'lexrank.algorithms.power_method' (C:\\Users\\katya\\anaconda3\\lib\\site-packages\\lexrank\\algorithms\\power_method.py)",
     "output_type": "error",
     "traceback": [
      "\u001b[1;31m---------------------------------------------------------------------------\u001b[0m",
      "\u001b[1;31mImportError\u001b[0m                               Traceback (most recent call last)",
      "\u001b[1;32m<ipython-input-43-766299c4eb8f>\u001b[0m in \u001b[0;36m<module>\u001b[1;34m\u001b[0m\n\u001b[1;32m----> 1\u001b[1;33m \u001b[1;32mfrom\u001b[0m \u001b[0mlexrank\u001b[0m\u001b[1;33m.\u001b[0m\u001b[0mlexrank\u001b[0m \u001b[1;32mimport\u001b[0m \u001b[0mdegree_centrality_scores\u001b[0m\u001b[1;33m\u001b[0m\u001b[1;33m\u001b[0m\u001b[0m\n\u001b[0m",
      "\u001b[1;32m~\\anaconda3\\lib\\site-packages\\lexrank\\lexrank.py\u001b[0m in \u001b[0;36m<module>\u001b[1;34m\u001b[0m\n\u001b[0;32m      4\u001b[0m \u001b[1;32mimport\u001b[0m \u001b[0mnumpy\u001b[0m \u001b[1;32mas\u001b[0m \u001b[0mnp\u001b[0m\u001b[1;33m\u001b[0m\u001b[1;33m\u001b[0m\u001b[0m\n\u001b[0;32m      5\u001b[0m \u001b[1;33m\u001b[0m\u001b[0m\n\u001b[1;32m----> 6\u001b[1;33m from lexrank.algorithms.power_method import (\n\u001b[0m\u001b[0;32m      7\u001b[0m     \u001b[0mcreate_markov_matrix\u001b[0m\u001b[1;33m,\u001b[0m \u001b[0mcreate_markov_matrix_discrete\u001b[0m\u001b[1;33m,\u001b[0m\u001b[1;33m\u001b[0m\u001b[1;33m\u001b[0m\u001b[0m\n\u001b[0;32m      8\u001b[0m     \u001b[0mstationary_distribution\u001b[0m\u001b[1;33m,\u001b[0m\u001b[1;33m\u001b[0m\u001b[1;33m\u001b[0m\u001b[0m\n",
      "\u001b[1;31mImportError\u001b[0m: cannot import name 'create_markov_matrix' from 'lexrank.algorithms.power_method' (C:\\Users\\katya\\anaconda3\\lib\\site-packages\\lexrank\\algorithms\\power_method.py)"
     ]
    }
   ],
   "source": [
    "from lexrank.lexrank import degree_centrality_scores"
   ]
  }
 ],
 "metadata": {
  "kernelspec": {
   "display_name": "Python 3",
   "language": "python",
   "name": "python3"
  },
  "language_info": {
   "codemirror_mode": {
    "name": "ipython",
    "version": 3
   },
   "file_extension": ".py",
   "mimetype": "text/x-python",
   "name": "python",
   "nbconvert_exporter": "python",
   "pygments_lexer": "ipython3",
   "version": "3.8.5"
  }
 },
 "nbformat": 4,
 "nbformat_minor": 4
}
